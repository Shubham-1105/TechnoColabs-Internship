{
  "nbformat": 4,
  "nbformat_minor": 0,
  "metadata": {
    "colab": {
      "name": " Face_Landmark_Detection_TechnoColabs.ipynb",
      "provenance": [],
      "collapsed_sections": []
    },
    "kernelspec": {
      "name": "python3",
      "display_name": "Python 3"
    },
    "accelerator": "GPU"
  },
  "cells": [
    {
      "cell_type": "code",
      "metadata": {
        "id": "7jso6uFH9-4m",
        "colab_type": "code",
        "colab": {}
      },
      "source": [
        "\n",
        "import tensorflow as tf\n",
        "import numpy as np\n"
      ],
      "execution_count": null,
      "outputs": []
    },
    {
      "cell_type": "markdown",
      "metadata": {
        "id": "zSBmIS2sh310",
        "colab_type": "text"
      },
      "source": [
        "\n",
        "\n",
        "\n",
        "The original data comes [Face Images with Marked Landmark Points](https://www.kaggle.com/drgilermo/face-images-with-marked-landmark-points) on [Kaggle](https://www.kaggle.com/) by [Omri Goldstein](https://www.kaggle.com/drgilermo). In this dataset, the `facial_keypoints.csv` file contains the 15 keypoints for all images.\n",
        "\n",
        "\n",
        "\n",
        "\n"
      ]
    },
    {
      "cell_type": "code",
      "metadata": {
        "id": "kG613uNGJzsJ",
        "colab_type": "code",
        "colab": {}
      },
      "source": [
        "\n",
        "!wget https://github.com/shubham0204/Dataset_Archives/blob/master/face_landmarks_cleaned.zip?raw=true -O data.zip\n",
        "!unzip data.zip\n"
      ],
      "execution_count": null,
      "outputs": []
    },
    {
      "cell_type": "markdown",
      "metadata": {
        "id": "VRmx7M28jqSG",
        "colab_type": "text"
      },
      "source": [
        "\n",
        "We'll normalize the images as well as the keypoints. The shape of our input image will be  `( 96 , 96 , 1 )` and the expected output will have a shape of `( 1 , 1 , 30 )`. The output is from a `Conv2D` layer rather than the `Dense` layer.\n"
      ]
    },
    {
      "cell_type": "code",
      "metadata": {
        "id": "SUvzB_pTMQgC",
        "colab_type": "code",
        "colab": {}
      },
      "source": [
        "\n",
        "x_train = np.load( \"face_landmarks_cleaned/x_train.npy\" ) / 255\n",
        "y_train = np.load( \"face_landmarks_cleaned/y_train.npy\" ) / 96\n",
        "x_test = np.load( \"face_landmarks_cleaned/x_test.npy\" ) / 255\n",
        "y_test = np.load( \"face_landmarks_cleaned/y_test.npy\" ) / 96\n",
        "\n",
        "y_train = np.reshape( y_train , ( -1 , 1 , 1 , 30 ))\n",
        "y_test = np.reshape( y_test , ( -1 , 1 , 1 , 30 ))\n"
      ],
      "execution_count": null,
      "outputs": []
    },
    {
      "cell_type": "code",
      "metadata": {
        "id": "HGkSJI41fHfg",
        "colab_type": "code",
        "colab": {}
      },
      "source": [
        "\n",
        "model_layers = [ \n",
        "    tf.keras.layers.SeparableConv2D( 128 , input_shape=( 96 , 96 , 1 ) , kernel_size=( 5 , 5 ) , strides=1 ),\n",
        "    tf.keras.layers.BatchNormalization(),\n",
        "    tf.keras.layers.Activation( 'relu' ) ,\n",
        "    tf.keras.layers.SeparableConv2D( 128 , kernel_size=( 5 , 5 ) , strides=1 ),\n",
        "    tf.keras.layers.BatchNormalization(),\n",
        "    tf.keras.layers.Activation( 'relu' ) ,\n",
        "    \n",
        "    tf.keras.layers.SeparableConv2D( 128 , kernel_size=( 5 , 5 ) , strides=1 , activation='relu' ),\n",
        "    tf.keras.layers.SeparableConv2D( 128 , kernel_size=( 5 , 5 ) , strides=1 , activation='relu' ),\n",
        "\n",
        "    tf.keras.layers.SeparableConv2D( 128 , kernel_size=( 5 , 5 ) , strides=1 ),\n",
        "    tf.keras.layers.BatchNormalization(),\n",
        "    tf.keras.layers.Activation( 'relu' ) ,\n",
        "    tf.keras.layers.SeparableConv2D( 128 , kernel_size=( 5 , 5 ) , strides=1 ),\n",
        "    tf.keras.layers.BatchNormalization(),\n",
        "    tf.keras.layers.Activation( 'relu' ) ,\n",
        "\n",
        "    tf.keras.layers.SeparableConv2D( 128 , kernel_size=( 5 , 5 ) , strides=1 , activation='relu' ),\n",
        "    tf.keras.layers.SeparableConv2D( 128 , kernel_size=( 5 , 5 ) , strides=1 , activation='relu' ),\n",
        "\n",
        "    tf.keras.layers.SeparableConv2D( 128 , kernel_size=( 5 , 5 ) , strides=1 ),\n",
        "    tf.keras.layers.BatchNormalization(),\n",
        "    tf.keras.layers.Activation( 'relu' ) ,\n",
        "    tf.keras.layers.SeparableConv2D( 128 , kernel_size=( 5 , 5 ) , strides=1 ),\n",
        "    tf.keras.layers.BatchNormalization(),\n",
        "    tf.keras.layers.Activation( 'relu' ) ,\n",
        "    \n",
        "    tf.keras.layers.SeparableConv2D( 64 , kernel_size=( 5 , 5 ) , strides=1 , activation='relu' ),\n",
        "    tf.keras.layers.SeparableConv2D( 64 , kernel_size=( 5 , 5 ) , strides=1 , activation='relu' ),\n",
        "\n",
        "    tf.keras.layers.SeparableConv2D( 64 , kernel_size=( 5 , 5 ) , strides=1),\n",
        "    tf.keras.layers.BatchNormalization(),\n",
        "    tf.keras.layers.Activation( 'relu' ) ,\n",
        "    tf.keras.layers.SeparableConv2D( 64 , kernel_size=( 5 , 5 ) , strides=1),\n",
        "    tf.keras.layers.BatchNormalization(),\n",
        "    tf.keras.layers.Activation( 'relu' ) ,\n",
        "\n",
        "    tf.keras.layers.SeparableConv2D( 64 , kernel_size=( 3 , 3 ) , strides=1 , activation='relu' ),\n",
        "    tf.keras.layers.SeparableConv2D( 64 , kernel_size=( 3 , 3 ) , strides=1 , activation='relu' ),\n",
        "\n",
        "    tf.keras.layers.SeparableConv2D( 64 , kernel_size=( 3 , 3 ) , strides=1 , activation='relu' ),\n",
        "    tf.keras.layers.SeparableConv2D( 64 , kernel_size=( 3 , 3 ) , strides=1 , activation='relu' ),\n",
        "\n",
        "    tf.keras.layers.SeparableConv2D( 64 , kernel_size=( 3 , 3 ) , strides=1 , activation='relu' ),\n",
        "    tf.keras.layers.SeparableConv2D( 64 , kernel_size=( 3 , 3 ) , strides=1 , activation='relu' ),\n",
        "\n",
        "    tf.keras.layers.SeparableConv2D( 32 , kernel_size=( 3 , 3 ) , strides=1 , activation='relu' ),\n",
        "    tf.keras.layers.SeparableConv2D( 32 , kernel_size=( 3 , 3 ) , strides=1 , activation='relu' ),\n",
        "\n",
        "    tf.keras.layers.SeparableConv2D( 32 , kernel_size=( 3 , 3 ) , strides=1 , activation='relu' ),\n",
        "    tf.keras.layers.SeparableConv2D( 32 , kernel_size=( 3 , 3 ) , strides=1 , activation='relu' ),\n",
        "\n",
        "    tf.keras.layers.SeparableConv2D( 32 , kernel_size=( 3 , 3 ) , strides=1 , activation='relu' ),\n",
        "    tf.keras.layers.SeparableConv2D( 32 , kernel_size=( 3 , 3 ) , strides=1 , activation='relu' ),\n",
        "\n",
        "    tf.keras.layers.SeparableConv2D( 32 , kernel_size=( 3 , 3 ) , strides=1 , activation='relu' ),\n",
        "    tf.keras.layers.SeparableConv2D( 32 , kernel_size=( 3 , 3 ) , strides=1 , activation='relu' ),\n",
        "\n",
        "    tf.keras.layers.SeparableConv2D( 32 , kernel_size=( 3 , 3 ) , strides=1 , activation='relu' ),\n",
        "    tf.keras.layers.SeparableConv2D( 32 , kernel_size=( 3 , 3 ) , strides=1 , activation='relu' ),\n",
        "    \n",
        "    tf.keras.layers.SeparableConv2D( 32 , kernel_size=( 3 , 3 ) , strides=1 , activation='relu' ),\n",
        "    tf.keras.layers.SeparableConv2D( 32 , kernel_size=( 2 , 2 ) , strides=1 , activation='relu' ),\n",
        "\n",
        "    tf.keras.layers.SeparableConv2D( 30 , kernel_size=( 2 , 2 ) , strides=1 , activation='relu' ),\n",
        "    tf.keras.layers.SeparableConv2D( 30 , kernel_size=( 2 , 2 ) , strides=1 , activation='relu' ),\n",
        "    tf.keras.layers.SeparableConv2D( 30 , kernel_size=( 2 , 2 ) , strides=1 , activation='relu' ),\n",
        "    tf.keras.layers.SeparableConv2D( 30 , kernel_size=( 2 , 2 ) , strides=1 , activation='sigmoid' ),\n",
        "]\n",
        "model = tf.keras.Sequential( model_layers )\n",
        "model.compile( loss=tf.keras.losses.mean_squared_error , optimizer=tf.keras.optimizers.Adam( lr=0.0001 ) , metrics=[ 'mse' ] )\n",
        "model.summary()\n"
      ],
      "execution_count": null,
      "outputs": []
    },
    {
      "cell_type": "code",
      "metadata": {
        "id": "UkZRWOph7n5a",
        "colab_type": "code",
        "colab": {}
      },
      "source": [
        "\n",
        "model.fit( x_train , y_train , epochs=25 , batch_size=50 , validation_data=( x_test , y_test ) )\n"
      ],
      "execution_count": null,
      "outputs": []
    },
    {
      "cell_type": "code",
      "metadata": {
        "id": "IsWsGrm8BvgN",
        "colab_type": "code",
        "colab": {}
      },
      "source": [
        "\n",
        "import matplotlib.pyplot as plt\n",
        "\n",
        "fig = plt.figure(figsize=( 50 , 50 ))\n",
        "\n",
        "for i in range( 1 , 6 ):\n",
        "    sample_image = np.reshape( x_test[i] * 255  , ( 96 , 96 ) ).astype( np.uint8 )\n",
        "    pred = model.predict( x_test[ i : i +1  ] ) * 96\n",
        "    pred = pred.astype( np.int32 )\n",
        "    pred = np.reshape( pred[0 , 0 , 0 ] , ( 15 , 2 ) )\n",
        "    fig.add_subplot( 1 , 10 , i )\n",
        "    plt.imshow( sample_image.T ,cmap='gray')\n",
        "    plt.scatter( pred[ : , 0 ] , pred[ : , 1 ] , c='yellow' )\n",
        "    \n",
        "plt.show()\n"
      ],
      "execution_count": null,
      "outputs": []
    },
    {
      "cell_type": "code",
      "metadata": {
        "id": "2lkFA8Q6nm7H",
        "colab_type": "code",
        "colab": {}
      },
      "source": [
        "model.save('face_keypoints.h5')"
      ],
      "execution_count": 24,
      "outputs": []
    }
  ]
}